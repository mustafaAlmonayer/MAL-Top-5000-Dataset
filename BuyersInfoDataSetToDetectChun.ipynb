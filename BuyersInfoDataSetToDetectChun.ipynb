{
 "cells": [
  {
   "cell_type": "markdown",
   "id": "d18bff1a",
   "metadata": {},
   "source": [
    "# Downloading A Dataset From Kaggle And Saving It In MongoDB"
   ]
  },
  {
   "cell_type": "markdown",
   "id": "cbe9f77b",
   "metadata": {},
   "source": [
    "## Run To Download Kaggle API"
   ]
  },
  {
   "cell_type": "code",
   "execution_count": null,
   "id": "f0f8f40c",
   "metadata": {
    "scrolled": true
   },
   "outputs": [],
   "source": [
    "pip install kaggle"
   ]
  },
  {
   "cell_type": "markdown",
   "id": "645b71c8",
   "metadata": {},
   "source": [
    "## Including Kaggle API"
   ]
  },
  {
   "cell_type": "code",
   "execution_count": 8,
   "id": "af52d0b3",
   "metadata": {},
   "outputs": [],
   "source": [
    "import kaggle\n",
    "from kaggle.api.kaggle_api_extended import KaggleApi"
   ]
  },
  {
   "cell_type": "markdown",
   "id": "b489b014",
   "metadata": {},
   "source": [
    "## Init API and Auth"
   ]
  },
  {
   "cell_type": "code",
   "execution_count": null,
   "id": "fe2de50b",
   "metadata": {},
   "outputs": [],
   "source": [
    "api = KaggleApi()\n",
    "api.authenticate()"
   ]
  },
  {
   "cell_type": "markdown",
   "id": "f6a9f498",
   "metadata": {},
   "source": [
    "## Downloading The Dataset"
   ]
  },
  {
   "cell_type": "code",
   "execution_count": null,
   "id": "5fb12a41",
   "metadata": {},
   "outputs": [],
   "source": [
    "api.dataset_download_file(\"rajatsurana979/comprehensive-credit-card-transactions-dataset\",\n",
    "                          file_name=\"credit_card_transaction_flow.csv\")"
   ]
  },
  {
   "cell_type": "markdown",
   "id": "834cce11",
   "metadata": {},
   "source": [
    "## Including ZipFile Lib To Unzip The Dataset"
   ]
  },
  {
   "cell_type": "code",
   "execution_count": 13,
   "id": "659a1eb5",
   "metadata": {},
   "outputs": [],
   "source": [
    "import zipfile"
   ]
  },
  {
   "cell_type": "markdown",
   "id": "a7c2fdc4",
   "metadata": {},
   "source": [
    "## Unziping The File"
   ]
  },
  {
   "cell_type": "code",
   "execution_count": 17,
   "id": "1abe69fc",
   "metadata": {},
   "outputs": [],
   "source": [
    "with zipfile.ZipFile(\"credit_card_transaction_flow.csv.zip\", \"r\") as zipds:\n",
    "    zipds.extractall()"
   ]
  },
  {
   "cell_type": "markdown",
   "id": "2dd72bd4",
   "metadata": {},
   "source": [
    "## Including Pandas Lib"
   ]
  },
  {
   "cell_type": "code",
   "execution_count": 2,
   "id": "1dfd22c4",
   "metadata": {},
   "outputs": [],
   "source": [
    "import pandas as pd"
   ]
  },
  {
   "cell_type": "markdown",
   "id": "d5a26369",
   "metadata": {},
   "source": [
    "## Reading CSV File And Saving It As A DataFrame"
   ]
  },
  {
   "cell_type": "code",
   "execution_count": null,
   "id": "7456c48b",
   "metadata": {},
   "outputs": [],
   "source": [
    "ds = pd.read_csv(\"credit_card_transaction_flow.csv\")\n",
    "ds.head()"
   ]
  },
  {
   "cell_type": "markdown",
   "id": "b28a5c6c",
   "metadata": {},
   "source": [
    "## Import PyMongo Lib"
   ]
  },
  {
   "cell_type": "code",
   "execution_count": 4,
   "id": "52d19160",
   "metadata": {},
   "outputs": [],
   "source": [
    "import pymongo as mdbc"
   ]
  },
  {
   "cell_type": "markdown",
   "id": "e97b90f4",
   "metadata": {},
   "source": [
    "## Init Connection With MongoDB And Get The DB And The Collection"
   ]
  },
  {
   "cell_type": "code",
   "execution_count": null,
   "id": "f4185b97",
   "metadata": {},
   "outputs": [],
   "source": [
    "client = mdbc.MongoClient(\"localhost\", 27017) # <- put yout own Socker Info\n",
    "db = client.get_database(\"dataEng\") # <- put your own DB name\n",
    "collection = db.get_collection(\"KaggleDataSet\") # <- put your own Collection name"
   ]
  },
  {
   "cell_type": "markdown",
   "id": "809614c6",
   "metadata": {},
   "source": [
    "## Cast DataFarme To Dictonary And Saving it in MongoDB"
   ]
  },
  {
   "cell_type": "code",
   "execution_count": null,
   "id": "2f580d24",
   "metadata": {},
   "outputs": [],
   "source": [
    "ds_dic = ds.to_dict(\"records\")\n",
    "collection.insert_many(ds_dic)"
   ]
  },
  {
   "cell_type": "markdown",
   "id": "f31f03df",
   "metadata": {},
   "source": [
    "## Check The Length Of The Collection It Should Be Equal To 5000"
   ]
  },
  {
   "cell_type": "code",
   "execution_count": null,
   "id": "6953b23e",
   "metadata": {},
   "outputs": [],
   "source": [
    "print(collection.count_documents({}))"
   ]
  },
  {
   "cell_type": "markdown",
   "id": "4f095fbf",
   "metadata": {},
   "source": [
    "## Read The First 5 Documents To Cheack If Its Correct"
   ]
  },
  {
   "cell_type": "code",
   "execution_count": null,
   "id": "95dd14ed",
   "metadata": {},
   "outputs": [],
   "source": [
    "data = collection.find().limit(5)\n",
    "my_ds = pd.DataFrame(i for i in data)\n",
    "my_ds.head()"
   ]
  }
 ],
 "metadata": {
  "kernelspec": {
   "display_name": "Python 3 (ipykernel)",
   "language": "python",
   "name": "python3"
  },
  "language_info": {
   "codemirror_mode": {
    "name": "ipython",
    "version": 3
   },
   "file_extension": ".py",
   "mimetype": "text/x-python",
   "name": "python",
   "nbconvert_exporter": "python",
   "pygments_lexer": "ipython3",
   "version": "3.11.5"
  }
 },
 "nbformat": 4,
 "nbformat_minor": 5
}
